{
 "cells": [
  {
   "cell_type": "code",
   "execution_count": 7,
   "id": "d407f892",
   "metadata": {},
   "outputs": [],
   "source": [
    "import io\n",
    "import prody as pr\n",
    "from pathlib import Path\n",
    "\n",
    "from pprint import pprint\n",
    "from pdbecif.mmcif_io import CifFileReader\n",
    "from collections import namedtuple\n",
    "\n",
    "import sys\n",
    "import subprocess\n",
    "sys.path.append('LASErMPNN')\n",
    "from utils.burial_calc import calc_residue_burial\n",
    "\n",
    "\n",
    "input_path = Path('./example_pdbs/16_pose26_en_-5p044_no_CG_top1_of_1_n4_00374_looped_master_6_gly_0001_trim_H_98.pdb')"
   ]
  },
  {
   "cell_type": "markdown",
   "id": "db2a214c",
   "metadata": {},
   "source": [
    "### Run DSSP with `mkdssp`"
   ]
  },
  {
   "cell_type": "code",
   "execution_count": 8,
   "id": "87e17fe9",
   "metadata": {},
   "outputs": [],
   "source": [
    "output_lines = ['HEADER    LASErMPNN GENERATED STRUCTURE           13-MAY-25   XXXX              ']\n",
    "with input_path.open('r') as file:\n",
    "    for line in file.readlines():\n",
    "        if not (line.startswith('ATOM') or line.startswith('HETATM')):\n",
    "            continue\n",
    "        output_lines.append(line.strip())\n",
    "\n",
    "final_stream = io.StringIO('\\n'.join(output_lines))\n",
    "\n",
    "with Path('dssp_input.pdb').open('w') as f:\n",
    "    f.write(final_stream.getvalue())\n",
    "\n",
    "subprocess.run('mkdssp dssp_input.pdb --calculate-accessibility > dssp_output.cif', shell=True)\n",
    "\n",
    "protein = pr.parsePDB('dssp_input.pdb')"
   ]
  },
  {
   "cell_type": "markdown",
   "id": "a63b394d",
   "metadata": {},
   "source": [
    "### Create a mask tracking which protein residues have secondary structure."
   ]
  },
  {
   "cell_type": "code",
   "execution_count": 9,
   "id": "6c11aaa5",
   "metadata": {},
   "outputs": [],
   "source": [
    "reader = CifFileReader()\n",
    "data = reader.read('./dssp_output.cif')\n",
    "constrain_ala_set = set()\n",
    "dssp_output_data = data['XXXX']['_dssp_struct_summary']\n",
    "DSSP_OUT = namedtuple('DSSP_OUT', list(dssp_output_data.keys()))\n",
    "for dssp_out in zip(*dssp_output_data.values()):\n",
    "    dssp_out = DSSP_OUT(*dssp_out)\n",
    "\n",
    "    # check that region has secondary structure\n",
    "    if dssp_out.secondary_structure in ('H', 'G', 'I', 'E'):\n",
    "        constrain_ala_set.add((dssp_out.label_asym_id, int(dssp_out.label_seq_id)))"
   ]
  },
  {
   "cell_type": "markdown",
   "id": "d37b7e13",
   "metadata": {},
   "source": [
    "### Create a mask tracking which protein residues are buried in a convex hull."
   ]
  },
  {
   "cell_type": "code",
   "execution_count": 11,
   "id": "4683dcb3",
   "metadata": {},
   "outputs": [],
   "source": [
    "sys.path.append('./LASErMPNN')\n",
    "from utils.burial_calc import calc_residue_burial\n",
    "\n",
    "cb_buried, lig_buried, pr_protein = calc_residue_burial(input_path, num_rays=100)"
   ]
  },
  {
   "cell_type": "code",
   "execution_count": 12,
   "id": "568abb44",
   "metadata": {},
   "outputs": [],
   "source": [
    "labels = []\n",
    "mask = [x in constrain_ala_set for x in zip(protein.ca.getChids(), protein.ca.getResnums())]\n",
    "protein.setBetas(0.0)\n",
    "idx = 0\n",
    "for ridx, residue in enumerate(protein.iterResidues()):\n",
    "    if all(x in residue.getNames() for x in ('CA', 'C', 'N')):\n",
    "        residue.setBetas(mask[ridx] * (~cb_buried[ridx]))\n",
    "        # residue.setBetas((~cb_buried)[idx])\n",
    "        # print(residue, cb_buried[idx])\n",
    "        labels.append(f'{residue}')\n",
    "        idx += 1"
   ]
  },
  {
   "cell_type": "code",
   "execution_count": 13,
   "id": "9a972872",
   "metadata": {},
   "outputs": [
    {
     "data": {
      "text/plain": [
       "'resnum 2 or resnum 5 or resnum 6 or resnum 8 or resnum 9 or resnum 12 or resnum 13 or resnum 15 or resnum 16 or resnum 19 or resnum 20 or resnum 22 or resnum 23 or resnum 26 or resnum 27 or resnum 29 or resnum 30 or resnum 33 or resnum 34 or resnum 37 or resnum 38 or resnum 39 or resnum 41 or resnum 42 or resnum 45 or resnum 46 or resnum 48 or resnum 49 or resnum 52 or resnum 53 or resnum 55 or resnum 56 or resnum 59 or resnum 60 or resnum 62 or resnum 63 or resnum 66 or resnum 67 or resnum 69 or resnum 70 or resnum 78 or resnum 79 or resnum 81 or resnum 82 or resnum 84 or resnum 85 or resnum 88 or resnum 89 or resnum 91 or resnum 92 or resnum 95 or resnum 96 or resnum 98 or resnum 99 or resnum 102 or resnum 103 or resnum 106 or resnum 109 or resnum 110 or resnum 115 or resnum 116 or resnum 118 or resnum 119 or resnum 122 or resnum 123 or resnum 125 or resnum 126 or resnum 129 or resnum 130 or resnum 132 or resnum 133 or resnum 136 or resnum 137 or resnum 139 or resnum 140 or resnum 143 or resnum 144 or resnum 146 or resnum 147'"
      ]
     },
     "execution_count": 13,
     "metadata": {},
     "output_type": "execute_result"
    }
   ],
   "source": [
    "constrained_residues = []\n",
    "for residue in protein.iterResidues():\n",
    "    if residue.ca is not None:\n",
    "        if residue.ca.getBetas()[0]:\n",
    "            constrained_residues.append(residue.ca.getResnums()[0])\n",
    "\n",
    "constraint_string = ' or '.join([f'resnum {x}' for x in constrained_residues])\n",
    "constraint_string\n"
   ]
  },
  {
   "cell_type": "code",
   "execution_count": 14,
   "id": "df4ad356",
   "metadata": {},
   "outputs": [
    {
     "data": {
      "text/plain": [
       "'dssp_and_burial_masked.pdb'"
      ]
     },
     "execution_count": 14,
     "metadata": {},
     "output_type": "execute_result"
    }
   ],
   "source": [
    "pr.writePDB('dssp_and_burial_masked.pdb', protein)"
   ]
  }
 ],
 "metadata": {
  "kernelspec": {
   "display_name": "lasermpnn",
   "language": "python",
   "name": "python3"
  },
  "language_info": {
   "codemirror_mode": {
    "name": "ipython",
    "version": 3
   },
   "file_extension": ".py",
   "mimetype": "text/x-python",
   "name": "python",
   "nbconvert_exporter": "python",
   "pygments_lexer": "ipython3",
   "version": "3.11.11"
  }
 },
 "nbformat": 4,
 "nbformat_minor": 5
}
